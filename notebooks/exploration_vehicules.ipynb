{
 "cells": [
  {
   "cell_type": "code",
   "execution_count": null,
   "metadata": {},
   "outputs": [],
   "source": [
    "import numpy as np\n",
    "import pandas as pd\n",
    "import matplotlib.pyplot as plt\n",
    "import plotly.express as px\n",
    "import plotly.graph_objects as go\n",
    "from plotly.subplots import make_subplots\n",
    "from tabulate import tabulate"
   ]
  },
  {
   "cell_type": "code",
   "execution_count": null,
   "metadata": {},
   "outputs": [],
   "source": [
    "#https://stackoverflow.com/questions/46135839/auto-detect-the-delimiter-in-a-csv-file-using-pd-read-csv\n",
    "import csv\n",
    "\n",
    "def get_delimiter(file_path, bytes = 4096):\n",
    "    sniffer = csv.Sniffer()\n",
    "    data = open(file_path, \"r\").read(bytes)\n",
    "    delimiter = sniffer.sniff(data).delimiter\n",
    "    return delimiter"
   ]
  },
  {
   "cell_type": "code",
   "execution_count": null,
   "metadata": {},
   "outputs": [],
   "source": [
    "def read_csv_file(file_path):\n",
    "    try:\n",
    "        for encoding in ['latin1', 'ISO-8859-1', 'utf-8']:\n",
    "            delimiter= get_delimiter(file_path)\n",
    "            try:\n",
    "                df = pd.read_csv(file_path, low_memory=False, encoding=encoding, delimiter=delimiter)\n",
    "                return df, True, None\n",
    "            except (UnicodeDecodeError, pd.errors.ParserError) as e:\n",
    "                pass  \n",
    "        return None, False, f\"Impossible de lire {file_path}.\"\n",
    "    except FileNotFoundError as e:\n",
    "        return None, False, e"
   ]
  },
  {
   "cell_type": "code",
   "execution_count": null,
   "metadata": {},
   "outputs": [],
   "source": [
    "years = list(range(2005, 2023, 1))\n",
    "prefixes= ['vehicules']\n",
    "dataframes= []\n",
    "\n",
    "for prefix in prefixes:\n",
    "    datasets = []\n",
    "    for year in years:\n",
    "        connector = '_' if year <= 2016 else '-'\n",
    "        file_name = f'datas/raw/{prefix}{connector}{year}.csv'\n",
    "        df, success, error = read_csv_file(file_name)\n",
    "        if success:\n",
    "            key= {file_name: df}\n",
    "            datasets.append(key)\n",
    "        else:\n",
    "            print(f'{file_name} : {error}')\n",
    "    dataframes.append(datasets)\n",
    "\n",
    "print(f'Total datasets: {len(dataframes)}.')\n",
    "\n",
    "for prefix, df_list in zip(prefixes, dataframes):\n",
    "    print(f'{prefix}: {len(df_list)}.')\n",
    "\n",
    "#Correction à la main des deux fichiers pour lesquels il y avait une erreur de frappe dans le nom.\n"
   ]
  }
 ],
 "metadata": {
  "kernelspec": {
   "display_name": "Python 3 (ipykernel)",
   "language": "python",
   "name": "python3"
  }
 },
 "nbformat": 4,
 "nbformat_minor": 2
}
